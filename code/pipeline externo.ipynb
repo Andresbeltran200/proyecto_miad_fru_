{
 "cells": [
  {
   "cell_type": "code",
   "execution_count": 2,
   "id": "99e32eb8-9a6b-4969-bc05-712f41e9f834",
   "metadata": {
    "tags": []
   },
   "outputs": [],
   "source": [
    "import unificar_semanas_sipsa"
   ]
  },
  {
   "cell_type": "code",
   "execution_count": 3,
   "id": "d631d182-398a-4aa4-8713-62ca9ed244d1",
   "metadata": {
    "tags": []
   },
   "outputs": [],
   "source": [
    "import pandas as pd\n",
    "import pickle\n",
    "import glob"
   ]
  },
  {
   "cell_type": "markdown",
   "id": "e8f60545-f272-4240-a12a-dec407845a5e",
   "metadata": {},
   "source": [
    "### etapa 0. Unificación de semanas"
   ]
  },
  {
   "cell_type": "markdown",
   "id": "9f3e22c3-5d93-44ab-998b-5a0862524374",
   "metadata": {},
   "source": [
    "El objetivo de la función sipsa es unificar y almacenar las información de las bases de datos del SIPSA Y unificarlas para su posterior uso, guardandolas en la carpeta Interim."
   ]
  },
  {
   "cell_type": "code",
   "execution_count": 4,
   "id": "732d9b6d-6b6d-4d51-8057-d2d7cdded37b",
   "metadata": {
    "tags": []
   },
   "outputs": [
    {
     "name": "stdout",
     "output_type": "stream",
     "text": [
      "finalizado concatenado de la base 1\n",
      "Guadando información\n",
      "finalizado 1 de 3\n",
      "finalizado concatenado de la base 2\n",
      "Guadando información\n",
      "finalizado 2 de 3\n",
      "finalizado concatenado de la base 3\n",
      "Guadando información\n",
      "finalizado 3 de 3\n"
     ]
    }
   ],
   "source": [
    "unificar_semanas_sipsa.sipsa()"
   ]
  },
  {
   "cell_type": "markdown",
   "id": "0c133672-b45c-4850-933c-7f1c19b26ccb",
   "metadata": {},
   "source": [
    "### etapa 1. Analisis de información externa"
   ]
  },
  {
   "cell_type": "code",
   "execution_count": 1,
   "id": "24b0f666-569f-45ac-9c8b-1a2dfa8439c4",
   "metadata": {
    "tags": []
   },
   "outputs": [],
   "source": [
    "import pandas as pd\n",
    "import plotly.express as px\n",
    "import ipywidgets as widgets\n",
    "from ipywidgets import interact\n"
   ]
  },
  {
   "cell_type": "code",
   "execution_count": 2,
   "id": "14ef1a79-1130-4bf6-9036-7f643a5be0f3",
   "metadata": {
    "tags": []
   },
   "outputs": [],
   "source": [
    "df_productos1 = pd.read_excel(\"../interim/data1.xlsx\")"
   ]
  },
  {
   "cell_type": "code",
   "execution_count": 3,
   "id": "6fc7cf86-3d29-4e45-bc78-d83077295d02",
   "metadata": {
    "tags": []
   },
   "outputs": [
    {
     "data": {
      "text/html": [
       "<div>\n",
       "<style scoped>\n",
       "    .dataframe tbody tr th:only-of-type {\n",
       "        vertical-align: middle;\n",
       "    }\n",
       "\n",
       "    .dataframe tbody tr th {\n",
       "        vertical-align: top;\n",
       "    }\n",
       "\n",
       "    .dataframe thead th {\n",
       "        text-align: right;\n",
       "    }\n",
       "</style>\n",
       "<table border=\"1\" class=\"dataframe\">\n",
       "  <thead>\n",
       "    <tr style=\"text-align: right;\">\n",
       "      <th></th>\n",
       "      <th>Unnamed: 0.1</th>\n",
       "      <th>Producto</th>\n",
       "      <th>Mercado mayorista</th>\n",
       "      <th>Precio mínimo</th>\n",
       "      <th>Precio máximo</th>\n",
       "      <th>Precio medio</th>\n",
       "      <th>Tendencia</th>\n",
       "      <th>Unnamed: 6</th>\n",
       "      <th>Archivo</th>\n",
       "      <th>Unnamed: 0</th>\n",
       "      <th>Periodo</th>\n",
       "      <th>Fecha</th>\n",
       "    </tr>\n",
       "  </thead>\n",
       "  <tbody>\n",
       "    <tr>\n",
       "      <th>0</th>\n",
       "      <td>0</td>\n",
       "      <td>Acelga</td>\n",
       "      <td>Bogotá, D.C., Corabastos</td>\n",
       "      <td>400.0</td>\n",
       "      <td>1333.0</td>\n",
       "      <td>719.0</td>\n",
       "      <td>+++</td>\n",
       "      <td>NaN</td>\n",
       "      <td>Semanal-01jul-07jul-2023.xlsx</td>\n",
       "      <td>71</td>\n",
       "      <td>72</td>\n",
       "      <td>2023-07-01</td>\n",
       "    </tr>\n",
       "    <tr>\n",
       "      <th>1</th>\n",
       "      <td>1</td>\n",
       "      <td>Acelga</td>\n",
       "      <td>Bucaramanga, Centroabastos</td>\n",
       "      <td>2000.0</td>\n",
       "      <td>2000.0</td>\n",
       "      <td>2000.0</td>\n",
       "      <td>=</td>\n",
       "      <td>NaN</td>\n",
       "      <td>Semanal-01jul-07jul-2023.xlsx</td>\n",
       "      <td>71</td>\n",
       "      <td>72</td>\n",
       "      <td>2023-07-01</td>\n",
       "    </tr>\n",
       "  </tbody>\n",
       "</table>\n",
       "</div>"
      ],
      "text/plain": [
       "   Unnamed: 0.1 Producto           Mercado mayorista  Precio mínimo  \\\n",
       "0             0   Acelga    Bogotá, D.C., Corabastos          400.0   \n",
       "1             1   Acelga  Bucaramanga, Centroabastos         2000.0   \n",
       "\n",
       "   Precio máximo  Precio medio Tendencia  Unnamed: 6  \\\n",
       "0         1333.0         719.0       +++         NaN   \n",
       "1         2000.0        2000.0         =         NaN   \n",
       "\n",
       "                         Archivo  Unnamed: 0  Periodo      Fecha  \n",
       "0  Semanal-01jul-07jul-2023.xlsx          71       72 2023-07-01  \n",
       "1  Semanal-01jul-07jul-2023.xlsx          71       72 2023-07-01  "
      ]
     },
     "execution_count": 3,
     "metadata": {},
     "output_type": "execute_result"
    }
   ],
   "source": [
    "df_productos1.head(2)"
   ]
  },
  {
   "cell_type": "code",
   "execution_count": 7,
   "id": "6ace574c-b7f9-4fe3-a08e-159337c1bbe5",
   "metadata": {
    "tags": []
   },
   "outputs": [
    {
     "data": {
      "application/vnd.jupyter.widget-view+json": {
       "model_id": "c3f05d01b7b14e3e92f51fe7a5d3c719",
       "version_major": 2,
       "version_minor": 0
      },
      "text/plain": [
       "interactive(children=(Dropdown(description='Producto:', options=('Fríjol verde cargamanto', 'Acelga', 'Ahuyama…"
      ]
     },
     "metadata": {},
     "output_type": "display_data"
    },
    {
     "data": {
      "text/plain": [
       "<function __main__.plot_filtered_graph(tipo_producto, marca)>"
      ]
     },
     "execution_count": 7,
     "metadata": {},
     "output_type": "execute_result"
    }
   ],
   "source": [
    "# Función para graficar y filtrar\n",
    "df_productos1 = df_productos1.sort_values(by='Fecha')\n",
    "def plot_filtered_graph(tipo_producto,marca):\n",
    "    filtered_df = df_productos1[(df_productos1['Producto'] == tipo_producto) & (df_productos1['Mercado mayorista'] == marca)]\n",
    "    fig = px.line(filtered_df, x='Fecha', y='Precio medio', title=f'Precios Promedio - Tipo {tipo_producto}')\n",
    "    fig.show()\n",
    "\n",
    "# Widget de selección\n",
    "tipo_producto_widget = widgets.Dropdown(\n",
    "    options=df_productos1['Producto'].unique(),\n",
    "    value=df_productos1['Producto'].unique()[0],\n",
    "    description='Producto:'\n",
    ")\n",
    "\n",
    "tipo_marcador= widgets.Dropdown(\n",
    "    options=df_productos1['Mercado mayorista'].unique(),\n",
    "    value=df_productos1['Mercado mayorista'].unique()[0],\n",
    "    description='Mercado mayorista:'\n",
    ")\n",
    "\n",
    "# Interactividad\n",
    "interact(plot_filtered_graph, tipo_producto=tipo_producto_widget ,marca = tipo_marcador)"
   ]
  },
  {
   "cell_type": "markdown",
   "id": "98ed90a4-26df-4495-8aca-5ef77ce07204",
   "metadata": {},
   "source": [
    "### etapa 2. Extraer información de análisis de costos"
   ]
  },
  {
   "cell_type": "code",
   "execution_count": null,
   "id": "202a38be-056c-4032-b55a-3d2f583b6327",
   "metadata": {},
   "outputs": [],
   "source": []
  },
  {
   "cell_type": "markdown",
   "id": "aa3caf94-6f40-4c43-9d58-446fcda4ac55",
   "metadata": {
    "tags": []
   },
   "source": [
    "### etapa 3. Extraer información de análisis de costos"
   ]
  },
  {
   "cell_type": "code",
   "execution_count": 13,
   "id": "15377107-d9dc-4e2f-ae7f-822b7e17462b",
   "metadata": {
    "tags": []
   },
   "outputs": [],
   "source": [
    "bases = pd.read_csv(\"../interim/base_consolidada.csv\")"
   ]
  },
  {
   "cell_type": "code",
   "execution_count": 14,
   "id": "968d7f60-39da-408e-8a4a-1afb5b8c3e0e",
   "metadata": {
    "tags": []
   },
   "outputs": [
    {
     "data": {
      "text/html": [
       "<div>\n",
       "<style scoped>\n",
       "    .dataframe tbody tr th:only-of-type {\n",
       "        vertical-align: middle;\n",
       "    }\n",
       "\n",
       "    .dataframe tbody tr th {\n",
       "        vertical-align: top;\n",
       "    }\n",
       "\n",
       "    .dataframe thead th {\n",
       "        text-align: right;\n",
       "    }\n",
       "</style>\n",
       "<table border=\"1\" class=\"dataframe\">\n",
       "  <thead>\n",
       "    <tr style=\"text-align: right;\">\n",
       "      <th></th>\n",
       "      <th>Unnamed: 0</th>\n",
       "      <th>nro_orden</th>\n",
       "      <th>fecha</th>\n",
       "      <th>producto</th>\n",
       "      <th>cantidad</th>\n",
       "      <th>precio</th>\n",
       "      <th>descuento</th>\n",
       "      <th>customer_id</th>\n",
       "      <th>sku</th>\n",
       "      <th>product_id_x</th>\n",
       "      <th>...</th>\n",
       "      <th>totalContribucionConDescuento</th>\n",
       "      <th>name</th>\n",
       "      <th>category</th>\n",
       "      <th>region_code</th>\n",
       "      <th>product_category_id</th>\n",
       "      <th>mean_shelf_life</th>\n",
       "      <th>promised_lead_time</th>\n",
       "      <th>purchasing_unit</th>\n",
       "      <th>buy_unit</th>\n",
       "      <th>weight_parameter_apricot</th>\n",
       "    </tr>\n",
       "  </thead>\n",
       "  <tbody>\n",
       "    <tr>\n",
       "      <th>0</th>\n",
       "      <td>0</td>\n",
       "      <td>18120194</td>\n",
       "      <td>2023-01-03</td>\n",
       "      <td>Papa Blanca Sucia Tamaño Mixto Kg</td>\n",
       "      <td>10</td>\n",
       "      <td>2750.0</td>\n",
       "      <td>46750.0</td>\n",
       "      <td>1f1b98af-ee04-4849-a6cf-4fecdf7dba50</td>\n",
       "      <td>BAQ-FRU1-CAT6-234:304:750:770</td>\n",
       "      <td>770</td>\n",
       "      <td>...</td>\n",
       "      <td>-42550.0</td>\n",
       "      <td>Papa Blanca Sucia Tamaño Mixto - KG</td>\n",
       "      <td>Tubérculos</td>\n",
       "      <td>BAQ</td>\n",
       "      <td>1.0</td>\n",
       "      <td>3.0</td>\n",
       "      <td>0.0</td>\n",
       "      <td>48.0</td>\n",
       "      <td>KG</td>\n",
       "      <td>1.0</td>\n",
       "    </tr>\n",
       "    <tr>\n",
       "      <th>1</th>\n",
       "      <td>1</td>\n",
       "      <td>18131510</td>\n",
       "      <td>2023-01-03</td>\n",
       "      <td>Tomate Chonto Extramaduro Mixto Kg</td>\n",
       "      <td>1</td>\n",
       "      <td>4998.0</td>\n",
       "      <td>1499.4</td>\n",
       "      <td>8c868951-e6d6-4d63-9592-d4b08ec43f3c</td>\n",
       "      <td>BAQ-FRU1-CAT104105-73423:168376:168377:92108</td>\n",
       "      <td>92108</td>\n",
       "      <td>...</td>\n",
       "      <td>1498.6</td>\n",
       "      <td>Tomate Chonto Extramaduro Mixto - Kg</td>\n",
       "      <td>Verduras</td>\n",
       "      <td>BAQ</td>\n",
       "      <td>1.0</td>\n",
       "      <td>1.0</td>\n",
       "      <td>NaN</td>\n",
       "      <td>22.0</td>\n",
       "      <td>KG</td>\n",
       "      <td>1.0</td>\n",
       "    </tr>\n",
       "  </tbody>\n",
       "</table>\n",
       "<p>2 rows × 29 columns</p>\n",
       "</div>"
      ],
      "text/plain": [
       "   Unnamed: 0  nro_orden       fecha                            producto  \\\n",
       "0           0   18120194  2023-01-03   Papa Blanca Sucia Tamaño Mixto Kg   \n",
       "1           1   18131510  2023-01-03  Tomate Chonto Extramaduro Mixto Kg   \n",
       "\n",
       "   cantidad  precio  descuento                           customer_id  \\\n",
       "0        10  2750.0    46750.0  1f1b98af-ee04-4849-a6cf-4fecdf7dba50   \n",
       "1         1  4998.0     1499.4  8c868951-e6d6-4d63-9592-d4b08ec43f3c   \n",
       "\n",
       "                                            sku  product_id_x  ...  \\\n",
       "0                 BAQ-FRU1-CAT6-234:304:750:770           770  ...   \n",
       "1  BAQ-FRU1-CAT104105-73423:168376:168377:92108         92108  ...   \n",
       "\n",
       "   totalContribucionConDescuento                                  name  \\\n",
       "0                       -42550.0   Papa Blanca Sucia Tamaño Mixto - KG   \n",
       "1                         1498.6  Tomate Chonto Extramaduro Mixto - Kg   \n",
       "\n",
       "     category region_code  product_category_id  mean_shelf_life  \\\n",
       "0  Tubérculos         BAQ                  1.0              3.0   \n",
       "1    Verduras         BAQ                  1.0              1.0   \n",
       "\n",
       "   promised_lead_time  purchasing_unit  buy_unit  weight_parameter_apricot  \n",
       "0                 0.0             48.0        KG                       1.0  \n",
       "1                 NaN             22.0        KG                       1.0  \n",
       "\n",
       "[2 rows x 29 columns]"
      ]
     },
     "execution_count": 14,
     "metadata": {},
     "output_type": "execute_result"
    }
   ],
   "source": [
    "bases.head(2)"
   ]
  },
  {
   "cell_type": "code",
   "execution_count": 17,
   "id": "6a995bd1-71af-4d6a-ac4a-e9ca14590b4e",
   "metadata": {
    "tags": []
   },
   "outputs": [],
   "source": [
    "homologacion = pd.read_excel(\"../input/homologación_sipsa_frubana_1.xlsx\")"
   ]
  },
  {
   "cell_type": "code",
   "execution_count": 18,
   "id": "73c4129d-5532-4c85-ad0a-623ff34ee25f",
   "metadata": {
    "tags": []
   },
   "outputs": [
    {
     "data": {
      "text/html": [
       "<div>\n",
       "<style scoped>\n",
       "    .dataframe tbody tr th:only-of-type {\n",
       "        vertical-align: middle;\n",
       "    }\n",
       "\n",
       "    .dataframe tbody tr th {\n",
       "        vertical-align: top;\n",
       "    }\n",
       "\n",
       "    .dataframe thead th {\n",
       "        text-align: right;\n",
       "    }\n",
       "</style>\n",
       "<table border=\"1\" class=\"dataframe\">\n",
       "  <thead>\n",
       "    <tr style=\"text-align: right;\">\n",
       "      <th></th>\n",
       "      <th>frubana_name</th>\n",
       "      <th>Sipsa_name</th>\n",
       "      <th>Base_Sipsa</th>\n",
       "    </tr>\n",
       "  </thead>\n",
       "  <tbody>\n",
       "    <tr>\n",
       "      <th>0</th>\n",
       "      <td>Ã‘ame EstÃ¡ndar Kg</td>\n",
       "      <td>Ñame criollo</td>\n",
       "      <td>3.0</td>\n",
       "    </tr>\n",
       "    <tr>\n",
       "      <th>1</th>\n",
       "      <td>Ã‘ame Grande Kg</td>\n",
       "      <td>Ñame criollo</td>\n",
       "      <td>3.0</td>\n",
       "    </tr>\n",
       "  </tbody>\n",
       "</table>\n",
       "</div>"
      ],
      "text/plain": [
       "         frubana_name    Sipsa_name  Base_Sipsa\n",
       "0  Ã‘ame EstÃ¡ndar Kg  Ñame criollo         3.0\n",
       "1     Ã‘ame Grande Kg  Ñame criollo         3.0"
      ]
     },
     "execution_count": 18,
     "metadata": {},
     "output_type": "execute_result"
    }
   ],
   "source": [
    "homologacion.head(2)"
   ]
  },
  {
   "cell_type": "code",
   "execution_count": 36,
   "id": "38c2a196-7ce6-43cf-87ac-4a8ebcc9205c",
   "metadata": {
    "tags": []
   },
   "outputs": [
    {
     "ename": "KeyError",
     "evalue": "'Fecha'",
     "output_type": "error",
     "traceback": [
      "\u001b[1;31m---------------------------------------------------------------------------\u001b[0m",
      "\u001b[1;31mKeyError\u001b[0m                                  Traceback (most recent call last)",
      "File \u001b[1;32m~\\anaconda3\\Lib\\site-packages\\pandas\\core\\indexes\\base.py:3802\u001b[0m, in \u001b[0;36mIndex.get_loc\u001b[1;34m(self, key, method, tolerance)\u001b[0m\n\u001b[0;32m   3801\u001b[0m \u001b[38;5;28;01mtry\u001b[39;00m:\n\u001b[1;32m-> 3802\u001b[0m     \u001b[38;5;28;01mreturn\u001b[39;00m \u001b[38;5;28mself\u001b[39m\u001b[38;5;241m.\u001b[39m_engine\u001b[38;5;241m.\u001b[39mget_loc(casted_key)\n\u001b[0;32m   3803\u001b[0m \u001b[38;5;28;01mexcept\u001b[39;00m \u001b[38;5;167;01mKeyError\u001b[39;00m \u001b[38;5;28;01mas\u001b[39;00m err:\n",
      "File \u001b[1;32m~\\anaconda3\\Lib\\site-packages\\pandas\\_libs\\index.pyx:138\u001b[0m, in \u001b[0;36mpandas._libs.index.IndexEngine.get_loc\u001b[1;34m()\u001b[0m\n",
      "File \u001b[1;32m~\\anaconda3\\Lib\\site-packages\\pandas\\_libs\\index.pyx:165\u001b[0m, in \u001b[0;36mpandas._libs.index.IndexEngine.get_loc\u001b[1;34m()\u001b[0m\n",
      "File \u001b[1;32mpandas\\_libs\\hashtable_class_helper.pxi:5745\u001b[0m, in \u001b[0;36mpandas._libs.hashtable.PyObjectHashTable.get_item\u001b[1;34m()\u001b[0m\n",
      "File \u001b[1;32mpandas\\_libs\\hashtable_class_helper.pxi:5753\u001b[0m, in \u001b[0;36mpandas._libs.hashtable.PyObjectHashTable.get_item\u001b[1;34m()\u001b[0m\n",
      "\u001b[1;31mKeyError\u001b[0m: 'Fecha'",
      "\nThe above exception was the direct cause of the following exception:\n",
      "\u001b[1;31mKeyError\u001b[0m                                  Traceback (most recent call last)",
      "Cell \u001b[1;32mIn[36], line 7\u001b[0m\n\u001b[0;32m      5\u001b[0m     \u001b[38;5;28;01mreturn\u001b[39;00m date \u001b[38;5;241m-\u001b[39m pd\u001b[38;5;241m.\u001b[39mTimedelta(days\u001b[38;5;241m=\u001b[39mdate\u001b[38;5;241m.\u001b[39mdayofweek)\n\u001b[0;32m      6\u001b[0m \u001b[38;5;66;03m# Apply the function to the 'Date' column to create the 'Beginning_week' column\u001b[39;00m\n\u001b[1;32m----> 7\u001b[0m merged_df[\u001b[38;5;124m'\u001b[39m\u001b[38;5;124mBeginning_week\u001b[39m\u001b[38;5;124m'\u001b[39m] \u001b[38;5;241m=\u001b[39m merged_df[\u001b[38;5;124m'\u001b[39m\u001b[38;5;124mFecha\u001b[39m\u001b[38;5;124m'\u001b[39m]\u001b[38;5;241m.\u001b[39mapply(beginning_of_week)\n\u001b[0;32m      8\u001b[0m \u001b[38;5;66;03m# Display the dataframe\u001b[39;00m\n\u001b[0;32m      9\u001b[0m \u001b[38;5;28mprint\u001b[39m(merged_df)\n",
      "File \u001b[1;32m~\\anaconda3\\Lib\\site-packages\\pandas\\core\\frame.py:3807\u001b[0m, in \u001b[0;36mDataFrame.__getitem__\u001b[1;34m(self, key)\u001b[0m\n\u001b[0;32m   3805\u001b[0m \u001b[38;5;28;01mif\u001b[39;00m \u001b[38;5;28mself\u001b[39m\u001b[38;5;241m.\u001b[39mcolumns\u001b[38;5;241m.\u001b[39mnlevels \u001b[38;5;241m>\u001b[39m \u001b[38;5;241m1\u001b[39m:\n\u001b[0;32m   3806\u001b[0m     \u001b[38;5;28;01mreturn\u001b[39;00m \u001b[38;5;28mself\u001b[39m\u001b[38;5;241m.\u001b[39m_getitem_multilevel(key)\n\u001b[1;32m-> 3807\u001b[0m indexer \u001b[38;5;241m=\u001b[39m \u001b[38;5;28mself\u001b[39m\u001b[38;5;241m.\u001b[39mcolumns\u001b[38;5;241m.\u001b[39mget_loc(key)\n\u001b[0;32m   3808\u001b[0m \u001b[38;5;28;01mif\u001b[39;00m is_integer(indexer):\n\u001b[0;32m   3809\u001b[0m     indexer \u001b[38;5;241m=\u001b[39m [indexer]\n",
      "File \u001b[1;32m~\\anaconda3\\Lib\\site-packages\\pandas\\core\\indexes\\base.py:3804\u001b[0m, in \u001b[0;36mIndex.get_loc\u001b[1;34m(self, key, method, tolerance)\u001b[0m\n\u001b[0;32m   3802\u001b[0m     \u001b[38;5;28;01mreturn\u001b[39;00m \u001b[38;5;28mself\u001b[39m\u001b[38;5;241m.\u001b[39m_engine\u001b[38;5;241m.\u001b[39mget_loc(casted_key)\n\u001b[0;32m   3803\u001b[0m \u001b[38;5;28;01mexcept\u001b[39;00m \u001b[38;5;167;01mKeyError\u001b[39;00m \u001b[38;5;28;01mas\u001b[39;00m err:\n\u001b[1;32m-> 3804\u001b[0m     \u001b[38;5;28;01mraise\u001b[39;00m \u001b[38;5;167;01mKeyError\u001b[39;00m(key) \u001b[38;5;28;01mfrom\u001b[39;00m \u001b[38;5;21;01merr\u001b[39;00m\n\u001b[0;32m   3805\u001b[0m \u001b[38;5;28;01mexcept\u001b[39;00m \u001b[38;5;167;01mTypeError\u001b[39;00m:\n\u001b[0;32m   3806\u001b[0m     \u001b[38;5;66;03m# If we have a listlike key, _check_indexing_error will raise\u001b[39;00m\n\u001b[0;32m   3807\u001b[0m     \u001b[38;5;66;03m#  InvalidIndexError. Otherwise we fall through and re-raise\u001b[39;00m\n\u001b[0;32m   3808\u001b[0m     \u001b[38;5;66;03m#  the TypeError.\u001b[39;00m\n\u001b[0;32m   3809\u001b[0m     \u001b[38;5;28mself\u001b[39m\u001b[38;5;241m.\u001b[39m_check_indexing_error(key)\n",
      "\u001b[1;31mKeyError\u001b[0m: 'Fecha'"
     ]
    }
   ],
   "source": [
    "merged_df = pd.merge(bases, homologacion, left_on='producto', right_on='frubana_name', how='inner')\n",
    "merged_df.head(2)\n",
    "# Function to calculate the beginning of the week (Sunday)\n",
    "def beginning_of_week(date):\n",
    "    return date - pd.Timedelta(days=date.dayofweek)\n",
    "# Apply the function to the 'Date' column to create the 'Beginning_week' column\n",
    "merged_df['Beginning_week'] = merged_df['Fecha'].apply(beginning_of_week)\n",
    "# Display the dataframe\n",
    "print(merged_df)"
   ]
  },
  {
   "cell_type": "code",
   "execution_count": 24,
   "id": "507fad0a-531f-4844-923f-b0e2f315a9e6",
   "metadata": {
    "tags": []
   },
   "outputs": [
    {
     "data": {
      "text/html": [
       "<div>\n",
       "<style scoped>\n",
       "    .dataframe tbody tr th:only-of-type {\n",
       "        vertical-align: middle;\n",
       "    }\n",
       "\n",
       "    .dataframe tbody tr th {\n",
       "        vertical-align: top;\n",
       "    }\n",
       "\n",
       "    .dataframe thead th {\n",
       "        text-align: right;\n",
       "    }\n",
       "</style>\n",
       "<table border=\"1\" class=\"dataframe\">\n",
       "  <thead>\n",
       "    <tr style=\"text-align: right;\">\n",
       "      <th></th>\n",
       "      <th>Unnamed: 0.1</th>\n",
       "      <th>Producto</th>\n",
       "      <th>Mercado mayorista</th>\n",
       "      <th>Precio mínimo</th>\n",
       "      <th>Precio máximo</th>\n",
       "      <th>Precio medio</th>\n",
       "      <th>Tendencia</th>\n",
       "      <th>Unnamed: 6</th>\n",
       "      <th>Archivo</th>\n",
       "      <th>Unnamed: 0</th>\n",
       "      <th>Periodo</th>\n",
       "      <th>Fecha</th>\n",
       "    </tr>\n",
       "  </thead>\n",
       "  <tbody>\n",
       "    <tr>\n",
       "      <th>100247</th>\n",
       "      <td>100247</td>\n",
       "      <td>Fríjol verde cargamanto</td>\n",
       "      <td>Chiquinquirá (Boyacá)</td>\n",
       "      <td>3000.0</td>\n",
       "      <td>3600.0</td>\n",
       "      <td>3400.0</td>\n",
       "      <td>++</td>\n",
       "      <td>NaN</td>\n",
       "      <td>../input/SIPSA Semanal\\Sem_19feb_2022_25feb_20...</td>\n",
       "      <td>0</td>\n",
       "      <td>1</td>\n",
       "      <td>2022-02-19</td>\n",
       "    </tr>\n",
       "    <tr>\n",
       "      <th>99785</th>\n",
       "      <td>99785</td>\n",
       "      <td>Acelga</td>\n",
       "      <td>Bogotá, D.C., Corabastos</td>\n",
       "      <td>400.0</td>\n",
       "      <td>667.0</td>\n",
       "      <td>576.0</td>\n",
       "      <td>+</td>\n",
       "      <td>NaN</td>\n",
       "      <td>../input/SIPSA Semanal\\Sem_19feb_2022_25feb_20...</td>\n",
       "      <td>0</td>\n",
       "      <td>1</td>\n",
       "      <td>2022-02-19</td>\n",
       "    </tr>\n",
       "  </tbody>\n",
       "</table>\n",
       "</div>"
      ],
      "text/plain": [
       "        Unnamed: 0.1                 Producto         Mercado mayorista  \\\n",
       "100247        100247  Fríjol verde cargamanto     Chiquinquirá (Boyacá)   \n",
       "99785          99785                   Acelga  Bogotá, D.C., Corabastos   \n",
       "\n",
       "        Precio mínimo  Precio máximo  Precio medio Tendencia  Unnamed: 6  \\\n",
       "100247         3000.0         3600.0        3400.0        ++         NaN   \n",
       "99785           400.0          667.0         576.0         +         NaN   \n",
       "\n",
       "                                                  Archivo  Unnamed: 0  \\\n",
       "100247  ../input/SIPSA Semanal\\Sem_19feb_2022_25feb_20...           0   \n",
       "99785   ../input/SIPSA Semanal\\Sem_19feb_2022_25feb_20...           0   \n",
       "\n",
       "        Periodo      Fecha  \n",
       "100247        1 2022-02-19  \n",
       "99785         1 2022-02-19  "
      ]
     },
     "execution_count": 24,
     "metadata": {},
     "output_type": "execute_result"
    }
   ],
   "source": [
    "df_productos1.head(2)"
   ]
  },
  {
   "cell_type": "code",
   "execution_count": 29,
   "id": "712797ad-6eb0-4873-a60a-05430d6ec357",
   "metadata": {
    "tags": []
   },
   "outputs": [
    {
     "data": {
      "text/html": [
       "<div>\n",
       "<style scoped>\n",
       "    .dataframe tbody tr th:only-of-type {\n",
       "        vertical-align: middle;\n",
       "    }\n",
       "\n",
       "    .dataframe tbody tr th {\n",
       "        vertical-align: top;\n",
       "    }\n",
       "\n",
       "    .dataframe thead th {\n",
       "        text-align: right;\n",
       "    }\n",
       "</style>\n",
       "<table border=\"1\" class=\"dataframe\">\n",
       "  <thead>\n",
       "    <tr style=\"text-align: right;\">\n",
       "      <th></th>\n",
       "      <th>Unnamed: 0.1</th>\n",
       "      <th>Producto</th>\n",
       "      <th>Mercado mayorista</th>\n",
       "      <th>Precio mínimo</th>\n",
       "      <th>Precio máximo</th>\n",
       "      <th>Precio medio</th>\n",
       "      <th>Tendencia</th>\n",
       "      <th>Unnamed: 6</th>\n",
       "      <th>Archivo</th>\n",
       "      <th>Unnamed: 0_x</th>\n",
       "      <th>...</th>\n",
       "      <th>region_code</th>\n",
       "      <th>product_category_id</th>\n",
       "      <th>mean_shelf_life</th>\n",
       "      <th>promised_lead_time</th>\n",
       "      <th>purchasing_unit</th>\n",
       "      <th>buy_unit</th>\n",
       "      <th>weight_parameter_apricot</th>\n",
       "      <th>frubana_name</th>\n",
       "      <th>Sipsa_name</th>\n",
       "      <th>Base_Sipsa</th>\n",
       "    </tr>\n",
       "  </thead>\n",
       "  <tbody>\n",
       "    <tr>\n",
       "      <th>0</th>\n",
       "      <td>96131</td>\n",
       "      <td>Ahuyama</td>\n",
       "      <td>Cúcuta, Cenabastos</td>\n",
       "      <td>1400.0</td>\n",
       "      <td>1500.0</td>\n",
       "      <td>1490.0</td>\n",
       "      <td>+</td>\n",
       "      <td>NaN</td>\n",
       "      <td>../input/SIPSA Semanal\\anex_30jul_al_05ago_202...</td>\n",
       "      <td>23</td>\n",
       "      <td>...</td>\n",
       "      <td>BAQ</td>\n",
       "      <td>1.0</td>\n",
       "      <td>5.0</td>\n",
       "      <td>NaN</td>\n",
       "      <td>20.0</td>\n",
       "      <td>KG</td>\n",
       "      <td>1.0</td>\n",
       "      <td>Ahuyama Grande Kg</td>\n",
       "      <td>Ahuyama</td>\n",
       "      <td>1.0</td>\n",
       "    </tr>\n",
       "    <tr>\n",
       "      <th>1</th>\n",
       "      <td>96141</td>\n",
       "      <td>Ahuyama</td>\n",
       "      <td>Popayán, Plaza de mercado del barrio Bolívar</td>\n",
       "      <td>1740.0</td>\n",
       "      <td>1800.0</td>\n",
       "      <td>1760.0</td>\n",
       "      <td>+</td>\n",
       "      <td>NaN</td>\n",
       "      <td>../input/SIPSA Semanal\\anex_30jul_al_05ago_202...</td>\n",
       "      <td>23</td>\n",
       "      <td>...</td>\n",
       "      <td>BAQ</td>\n",
       "      <td>1.0</td>\n",
       "      <td>5.0</td>\n",
       "      <td>NaN</td>\n",
       "      <td>20.0</td>\n",
       "      <td>KG</td>\n",
       "      <td>1.0</td>\n",
       "      <td>Ahuyama Grande Kg</td>\n",
       "      <td>Ahuyama</td>\n",
       "      <td>1.0</td>\n",
       "    </tr>\n",
       "  </tbody>\n",
       "</table>\n",
       "<p>2 rows × 44 columns</p>\n",
       "</div>"
      ],
      "text/plain": [
       "   Unnamed: 0.1 Producto                             Mercado mayorista  \\\n",
       "0         96131  Ahuyama                            Cúcuta, Cenabastos   \n",
       "1         96141  Ahuyama  Popayán, Plaza de mercado del barrio Bolívar   \n",
       "\n",
       "   Precio mínimo  Precio máximo  Precio medio Tendencia  Unnamed: 6  \\\n",
       "0         1400.0         1500.0        1490.0         +         NaN   \n",
       "1         1740.0         1800.0        1760.0         +         NaN   \n",
       "\n",
       "                                             Archivo  Unnamed: 0_x  ...  \\\n",
       "0  ../input/SIPSA Semanal\\anex_30jul_al_05ago_202...            23  ...   \n",
       "1  ../input/SIPSA Semanal\\anex_30jul_al_05ago_202...            23  ...   \n",
       "\n",
       "   region_code product_category_id  mean_shelf_life  promised_lead_time  \\\n",
       "0          BAQ                 1.0              5.0                 NaN   \n",
       "1          BAQ                 1.0              5.0                 NaN   \n",
       "\n",
       "  purchasing_unit buy_unit  weight_parameter_apricot       frubana_name  \\\n",
       "0            20.0       KG                       1.0  Ahuyama Grande Kg   \n",
       "1            20.0       KG                       1.0  Ahuyama Grande Kg   \n",
       "\n",
       "   Sipsa_name Base_Sipsa  \n",
       "0     Ahuyama        1.0  \n",
       "1     Ahuyama        1.0  \n",
       "\n",
       "[2 rows x 44 columns]"
      ]
     },
     "execution_count": 29,
     "metadata": {},
     "output_type": "execute_result"
    }
   ],
   "source": [
    "df_productos1['Fecha'] = pd.to_datetime(df_productos1['Fecha'])\n",
    "\n",
    "# Convertir la columna 'fecha' de merged_df a datetime64[ns]\n",
    "merged_df['fecha'] = pd.to_datetime(merged_df['fecha'])\n",
    "\n",
    "# Realizar el merge utilizando las columnas convertidas a datetime64[ns]\n",
    "merged_df2 = pd.merge(df_productos1, merged_df, left_on=['Producto', 'Fecha'], right_on=['Sipsa_name', 'fecha'], how='inner')\n",
    "\n",
    "# Mostrar las primeras filas del DataFrame resultante\n",
    "merged_df2.head(2)"
   ]
  },
  {
   "cell_type": "code",
   "execution_count": 31,
   "id": "975738bb-1eee-454d-b9b4-13ce098b3760",
   "metadata": {
    "tags": []
   },
   "outputs": [
    {
     "data": {
      "text/plain": [
       "Index(['Unnamed: 0.1', 'Producto', 'Mercado mayorista', 'Precio mínimo',\n",
       "       'Precio máximo', 'Precio medio', 'Tendencia', 'Unnamed: 6', 'Archivo',\n",
       "       'Unnamed: 0_x', 'Periodo', 'Fecha', 'Unnamed: 0_y', 'nro_orden',\n",
       "       'fecha', 'producto', 'cantidad', 'precio', 'descuento', 'customer_id',\n",
       "       'sku', 'product_id_x', 'product_quantity_x_step_unit',\n",
       "       'product_step_unit', 'product_unit', 'sku_parent', 'month',\n",
       "       'totalVentasSinDescuento', 'totalVentasConDescuento', 'unit cost',\n",
       "       'totalContribucionSinDescuento', 'totalContribucionConDescuento',\n",
       "       'name', 'category', 'region_code', 'product_category_id',\n",
       "       'mean_shelf_life', 'promised_lead_time', 'purchasing_unit', 'buy_unit',\n",
       "       'weight_parameter_apricot', 'frubana_name', 'Sipsa_name', 'Base_Sipsa'],\n",
       "      dtype='object')"
      ]
     },
     "execution_count": 31,
     "metadata": {},
     "output_type": "execute_result"
    }
   ],
   "source": [
    "merged_df2.columns"
   ]
  },
  {
   "cell_type": "code",
   "execution_count": 33,
   "id": "a54e50bb-9ed1-43bc-9b12-e06ff4be4e15",
   "metadata": {
    "tags": []
   },
   "outputs": [],
   "source": [
    "Base_total = merged_df2[['Producto','Precio medio','precio','unit cost']].copy()"
   ]
  },
  {
   "cell_type": "code",
   "execution_count": 34,
   "id": "e8a52bb9-496d-4225-b0f1-13800e32d2de",
   "metadata": {
    "tags": []
   },
   "outputs": [
    {
     "name": "stderr",
     "output_type": "stream",
     "text": [
      "C:\\Users\\aabv1\\AppData\\Local\\Temp\\ipykernel_7524\\3305595094.py:1: FutureWarning:\n",
      "\n",
      "The default value of numeric_only in DataFrame.corr is deprecated. In a future version, it will default to False. Select only valid columns or specify the value of numeric_only to silence this warning.\n",
      "\n"
     ]
    },
    {
     "data": {
      "text/html": [
       "<div>\n",
       "<style scoped>\n",
       "    .dataframe tbody tr th:only-of-type {\n",
       "        vertical-align: middle;\n",
       "    }\n",
       "\n",
       "    .dataframe tbody tr th {\n",
       "        vertical-align: top;\n",
       "    }\n",
       "\n",
       "    .dataframe thead th {\n",
       "        text-align: right;\n",
       "    }\n",
       "</style>\n",
       "<table border=\"1\" class=\"dataframe\">\n",
       "  <thead>\n",
       "    <tr style=\"text-align: right;\">\n",
       "      <th></th>\n",
       "      <th>Precio medio</th>\n",
       "      <th>precio</th>\n",
       "      <th>unit cost</th>\n",
       "    </tr>\n",
       "  </thead>\n",
       "  <tbody>\n",
       "    <tr>\n",
       "      <th>Precio medio</th>\n",
       "      <td>1.000000</td>\n",
       "      <td>0.628878</td>\n",
       "      <td>0.622585</td>\n",
       "    </tr>\n",
       "    <tr>\n",
       "      <th>precio</th>\n",
       "      <td>0.628878</td>\n",
       "      <td>1.000000</td>\n",
       "      <td>0.997090</td>\n",
       "    </tr>\n",
       "    <tr>\n",
       "      <th>unit cost</th>\n",
       "      <td>0.622585</td>\n",
       "      <td>0.997090</td>\n",
       "      <td>1.000000</td>\n",
       "    </tr>\n",
       "  </tbody>\n",
       "</table>\n",
       "</div>"
      ],
      "text/plain": [
       "              Precio medio    precio  unit cost\n",
       "Precio medio      1.000000  0.628878   0.622585\n",
       "precio            0.628878  1.000000   0.997090\n",
       "unit cost         0.622585  0.997090   1.000000"
      ]
     },
     "execution_count": 34,
     "metadata": {},
     "output_type": "execute_result"
    }
   ],
   "source": [
    "Base_total.corr()"
   ]
  },
  {
   "cell_type": "code",
   "execution_count": null,
   "id": "7660c8cf-e174-4969-ab1d-d2666750081f",
   "metadata": {},
   "outputs": [],
   "source": []
  }
 ],
 "metadata": {
  "kernelspec": {
   "display_name": "Python 3 (ipykernel)",
   "language": "python",
   "name": "python3"
  },
  "language_info": {
   "codemirror_mode": {
    "name": "ipython",
    "version": 3
   },
   "file_extension": ".py",
   "mimetype": "text/x-python",
   "name": "python",
   "nbconvert_exporter": "python",
   "pygments_lexer": "ipython3",
   "version": "3.11.4"
  }
 },
 "nbformat": 4,
 "nbformat_minor": 5
}
